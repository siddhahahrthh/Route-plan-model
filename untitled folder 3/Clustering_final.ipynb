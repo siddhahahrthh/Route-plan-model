{
 "cells": [
  {
   "cell_type": "code",
   "execution_count": 1,
   "id": "8221901f",
   "metadata": {},
   "outputs": [
    {
     "name": "stderr",
     "output_type": "stream",
     "text": [
      "C:\\Users\\Siddharth\\anaconda3\\Lib\\site-packages\\pandas\\core\\arrays\\masked.py:60: UserWarning: Pandas requires version '1.3.6' or newer of 'bottleneck' (version '1.3.5' currently installed).\n",
      "  from pandas.core import (\n"
     ]
    },
    {
     "data": {
      "text/plain": [
       "{'spreadsheetId': '1TXJYYulF8ZHjC_1iV7_Efjb6GyC3JFjis8vKQU80Jwc',\n",
       " 'updatedRange': \"'Master Cluster_New'!A1242:E1242\",\n",
       " 'updatedRows': 1,\n",
       " 'updatedColumns': 5,\n",
       " 'updatedCells': 5}"
      ]
     },
     "execution_count": 1,
     "metadata": {},
     "output_type": "execute_result"
    }
   ],
   "source": [
    "\"\"\"\n",
    "Author: Siddharth Khera\n",
    "Date: 23-05-2024\n",
    "\n",
    "Description: Assigning User ids to Polygons\n",
    "\"\"\"\n",
    "\n",
    "import pandas as pd\n",
    "from shapely.geometry import Polygon, Point\n",
    "import gspread\n",
    "\n",
    "#Polygons\n",
    "df = pd.read_csv(\"cluster.csv\" , header=0)\n",
    "listt = df['coordinates'].tolist()\n",
    "polygons = [Polygon([tuple(map(float , coord.split()[::-1])) for coord in [cord.strip() for cord in str.split(\",\")]]) for str in listt ]\n",
    "\n",
    "#New user ids\n",
    "sheet_url = 'https://docs.google.com/spreadsheets/d/1TXJYYulF8ZHjC_1iV7_Efjb6GyC3JFjis8vKQU80Jwc/edit#gid=962846952'\n",
    "sheet_name = 'Master Cluster_New'\n",
    "gc = gspread.service_account(filename='big.json')\n",
    "sh = gc.open_by_url(sheet_url)\n",
    "sheet = sh.worksheet(sheet_name)\n",
    "last = len(sheet.get_all_values()) +1 \n",
    "val = sheet.get_all_values()\n",
    "sub = [row[7:11] for row in val]\n",
    "data = pd.DataFrame(sub[1:],columns=sub[0]).drop_duplicates().reset_index(drop=True)\n",
    "if data.iloc[-1].str.strip().eq('').all():\n",
    "    data = data.iloc[:-1]\n",
    "    \n",
    "#Cluster assign    \n",
    "def assign_cluster(row):\n",
    "    coordinate = Point(eval(row['loc']))\n",
    "    for i, polygon in enumerate(polygons):\n",
    "        if polygon.contains(coordinate):\n",
    "            return i + 1\n",
    "    return min(range(len(polygons)), key=lambda j: polygons[j].exterior.distance(coordinate)) + 1\n",
    "\n",
    "#Pasting\n",
    "data['id'] = data.apply(assign_cluster, axis=1)\n",
    "new_df = pd.DataFrame(data , index=None)\n",
    "cell_range = f'A{last}'\n",
    "sheet.update(values=new_df.values.tolist() , range_name = cell_range)"
   ]
  },
  {
   "cell_type": "code",
   "execution_count": null,
   "id": "d8aa210d",
   "metadata": {},
   "outputs": [],
   "source": []
  }
 ],
 "metadata": {
  "kernelspec": {
   "display_name": "Python 3 (ipykernel)",
   "language": "python",
   "name": "python3"
  },
  "language_info": {
   "codemirror_mode": {
    "name": "ipython",
    "version": 3
   },
   "file_extension": ".py",
   "mimetype": "text/x-python",
   "name": "python",
   "nbconvert_exporter": "python",
   "pygments_lexer": "ipython3",
   "version": "3.11.5"
  }
 },
 "nbformat": 4,
 "nbformat_minor": 5
}
